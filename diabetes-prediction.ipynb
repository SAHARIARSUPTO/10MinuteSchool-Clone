{
 "cells": [
  {
   "cell_type": "code",
   "execution_count": 1,
   "id": "46ddd25a",
   "metadata": {
    "_cell_guid": "b1076dfc-b9ad-4769-8c92-a6c4dae69d19",
    "_uuid": "8f2839f25d086af736a60e9eeb907d3b93b6e0e5",
    "execution": {
     "iopub.execute_input": "2025-04-29T19:56:17.633763Z",
     "iopub.status.busy": "2025-04-29T19:56:17.633103Z",
     "iopub.status.idle": "2025-04-29T19:56:21.625092Z",
     "shell.execute_reply": "2025-04-29T19:56:21.624220Z"
    },
    "papermill": {
     "duration": 3.996653,
     "end_time": "2025-04-29T19:56:21.626692",
     "exception": false,
     "start_time": "2025-04-29T19:56:17.630039",
     "status": "completed"
    },
    "tags": []
   },
   "outputs": [
    {
     "name": "stdout",
     "output_type": "stream",
     "text": [
      "       gender   age  hypertension  heart_disease smoking_history    bmi  \\\n",
      "0      Female  80.0             0              1           never  25.19   \n",
      "1      Female  54.0             0              0         No Info  27.32   \n",
      "2        Male  28.0             0              0           never  27.32   \n",
      "3      Female  36.0             0              0         current  23.45   \n",
      "4        Male  76.0             1              1         current  20.14   \n",
      "...       ...   ...           ...            ...             ...    ...   \n",
      "99995  Female  80.0             0              0         No Info  27.32   \n",
      "99996  Female   2.0             0              0         No Info  17.37   \n",
      "99997    Male  66.0             0              0          former  27.83   \n",
      "99998  Female  24.0             0              0           never  35.42   \n",
      "99999  Female  57.0             0              0         current  22.43   \n",
      "\n",
      "       HbA1c_level  blood_glucose_level  diabetes  \n",
      "0              6.6                  140         0  \n",
      "1              6.6                   80         0  \n",
      "2              5.7                  158         0  \n",
      "3              5.0                  155         0  \n",
      "4              4.8                  155         0  \n",
      "...            ...                  ...       ...  \n",
      "99995          6.2                   90         0  \n",
      "99996          6.5                  100         0  \n",
      "99997          5.7                  155         0  \n",
      "99998          4.0                  100         0  \n",
      "99999          6.6                   90         0  \n",
      "\n",
      "[100000 rows x 9 columns]\n"
     ]
    }
   ],
   "source": [
    "import pandas as pd\n",
    "from sklearn.linear_model import LogisticRegression\n",
    "df=pd.read_csv('/kaggle/input/diabetes-prediction-dataset/diabetes_prediction_dataset.csv')\n",
    "print(df)"
   ]
  },
  {
   "cell_type": "code",
   "execution_count": 2,
   "id": "0d708b0e",
   "metadata": {
    "execution": {
     "iopub.execute_input": "2025-04-29T19:56:21.631474Z",
     "iopub.status.busy": "2025-04-29T19:56:21.630842Z",
     "iopub.status.idle": "2025-04-29T19:56:21.833016Z",
     "shell.execute_reply": "2025-04-29T19:56:21.832258Z"
    },
    "papermill": {
     "duration": 0.20856,
     "end_time": "2025-04-29T19:56:21.837052",
     "exception": false,
     "start_time": "2025-04-29T19:56:21.628492",
     "status": "completed"
    },
    "tags": []
   },
   "outputs": [
    {
     "name": "stdout",
     "output_type": "stream",
     "text": [
      "[0]\n"
     ]
    },
    {
     "name": "stderr",
     "output_type": "stream",
     "text": [
      "/usr/local/lib/python3.11/dist-packages/sklearn/base.py:439: UserWarning: X does not have valid feature names, but LogisticRegression was fitted with feature names\n",
      "  warnings.warn(\n"
     ]
    }
   ],
   "source": [
    "x=df[['age']]\n",
    "y=df['heart_disease']\n",
    "model=LogisticRegression()\n",
    "model.fit(x,y)\n",
    "prediction=model.predict([[80]]) #predict with age\n",
    "print(prediction)"
   ]
  }
 ],
 "metadata": {
  "kaggle": {
   "accelerator": "none",
   "dataSources": [
    {
     "datasetId": 3102947,
     "sourceId": 5344155,
     "sourceType": "datasetVersion"
    }
   ],
   "dockerImageVersionId": 31012,
   "isGpuEnabled": false,
   "isInternetEnabled": true,
   "language": "python",
   "sourceType": "notebook"
  },
  "kernelspec": {
   "display_name": "Python 3",
   "language": "python",
   "name": "python3"
  },
  "language_info": {
   "codemirror_mode": {
    "name": "ipython",
    "version": 3
   },
   "file_extension": ".py",
   "mimetype": "text/x-python",
   "name": "python",
   "nbconvert_exporter": "python",
   "pygments_lexer": "ipython3",
   "version": "3.11.11"
  },
  "papermill": {
   "default_parameters": {},
   "duration": 9.922684,
   "end_time": "2025-04-29T19:56:22.560698",
   "environment_variables": {},
   "exception": null,
   "input_path": "__notebook__.ipynb",
   "output_path": "__notebook__.ipynb",
   "parameters": {},
   "start_time": "2025-04-29T19:56:12.638014",
   "version": "2.6.0"
  }
 },
 "nbformat": 4,
 "nbformat_minor": 5
}
